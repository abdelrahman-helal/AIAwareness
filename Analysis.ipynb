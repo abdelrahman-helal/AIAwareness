{
  "cells": [
    {
      "cell_type": "markdown",
      "metadata": {
        "id": "3pxysY46A1sz"
      },
      "source": [
        "# Brainstorming"
      ]
    },
    {
      "cell_type": "code",
      "execution_count": null,
      "metadata": {
        "id": "rnxliUxryO-6"
      },
      "outputs": [
        {
          "name": "stderr",
          "output_type": "stream",
          "text": [
            "c:\\Users\\Abdelrahman Helal\\AppData\\Local\\Programs\\Python\\Python313\\Lib\\site-packages\\tqdm\\auto.py:21: TqdmWarning: IProgress not found. Please update jupyter and ipywidgets. See https://ipywidgets.readthedocs.io/en/stable/user_install.html\n",
            "  from .autonotebook import tqdm as notebook_tqdm\n"
          ]
        }
      ],
      "source": [
        "import json\n",
        "import time\n",
        "import numpy as np\n",
        "from tqdm import tqdm\n",
        "import scipy.stats as sts\n",
        "import statsmodels.api as sm \n",
        "import matplotlib.pyplot as plt\n",
        "import google.generativeai as genai\n",
        "from IPython.display import Markdown"
      ]
    },
    {
      "cell_type": "markdown",
      "metadata": {
        "id": "meIRn84t42RI"
      },
      "source": [
        "# Gemini"
      ]
    },
    {
      "cell_type": "markdown",
      "metadata": {},
      "source": [
        "Gemini 2.0 Flash lite is used for its high rate limit to allow for multiple calls, and it was not nescessary to use thinking models (2.5 Flash or 2.5 Pro) since the task does not require complex processes. We use a temperature of 0.5 to ensure a sufficent variation betweeen responses for the same prompt. "
      ]
    },
    {
      "cell_type": "code",
      "execution_count": null,
      "metadata": {
        "id": "Fb9y2ozD4bKq"
      },
      "outputs": [],
      "source": [
        "genai.configure(api_key=key)\n",
        "gen_model = genai.GenerativeModel(\"gemini-2.0-flash-lite\", \n",
        "                                generation_config={\n",
        "                                 \"temperature\": 0.5})"
      ]
    },
    {
      "cell_type": "code",
      "execution_count": null,
      "metadata": {
        "colab": {
          "base_uri": "https://localhost:8080/",
          "height": 986
        },
        "id": "W0V3PaWZij3a",
        "outputId": "10be9813-796c-4f59-eb0b-8e414a3d60b6"
      },
      "outputs": [
        {
          "data": {
            "text/markdown": [
              "## The Relationship Between Poisson and Exponential Distributions\n",
              "\n",
              "The Poisson and Exponential distributions are closely related and often used together to model random events over time or space. They are essentially **inverses** of each other in a specific context:\n",
              "\n",
              "*   **Poisson Distribution:** Models the **number of events** occurring within a fixed interval of time or space. It's a *discrete* probability distribution, meaning it deals with whole numbers (0, 1, 2, 3, ... events).\n",
              "\n",
              "*   **Exponential Distribution:** Models the **time or space between events** in a Poisson process. It's a *continuous* probability distribution, meaning it deals with any positive real number (e.g., 1.5 minutes, 3.2 meters).\n",
              "\n",
              "**Here's the connection:**\n",
              "\n",
              "Imagine a scenario where events occur randomly and independently at a constant average rate (λ, lambda). This is the core assumption of a Poisson process.\n",
              "\n",
              "1.  **Poisson Perspective:** If we fix a time interval (e.g., 1 hour), the Poisson distribution tells us the probability of observing a specific number of events (e.g., 0, 1, 2, 3...) within that hour. The parameter for the Poisson distribution is the *average number of events* (λ) in that interval.\n",
              "\n",
              "2.  **Exponential Perspective:** The Exponential distribution tells us the probability of the *time* (or space) that elapses *between* two consecutive events. The parameter for the Exponential distribution is the *average time between events* (1/λ).  Since the average rate of events is λ, the average time between events is the inverse, 1/λ.\n",
              "\n",
              "**In essence:**\n",
              "\n",
              "*   **Poisson:**  \"How many events will happen in this time/space?\"\n",
              "*   **Exponential:** \"How long until the next event happens?\"\n",
              "\n",
              "**Analogy:**\n",
              "\n",
              "Think of customers arriving at a store.\n",
              "\n",
              "*   **Poisson:**  \"What's the probability that 5 customers arrive in the next hour?\" (Number of events in a fixed time)\n",
              "*   **Exponential:** \"What's the probability that the next customer arrives within 10 minutes?\" (Time between events)\n",
              "\n",
              "## When to Use Each Distribution\n",
              "\n",
              "**1. Poisson Distribution:**\n",
              "\n",
              "Use the Poisson distribution when you want to model:\n",
              "\n",
              "*   **Number of events:** Count the number of occurrences of a rare event within a specific time period, area, or volume.\n",
              "*   **Events are random:** Events occur independently of each other.\n",
              "*   **Constant rate:** The average rate of events is constant over the interval.\n",
              "\n",
              "**Examples:**\n",
              "\n",
              "*   Number of phone calls received by a call center in an hour.\n",
              "*   Number of cars passing a specific point on a highway in a minute.\n",
              "*   Number of typos on a page of a book.\n",
              "*   Number of customers arriving at a store in an hour.\n",
              "*   Number of radioactive decays in a given time.\n",
              "\n",
              "**Formula:**\n",
              "\n",
              "P(X = k) = (λ^k * e^(-λ)) / k!\n",
              "\n",
              "Where:\n",
              "\n",
              "*   P(X = k) is the probability of observing exactly k events.\n",
              "*   λ (lambda) is the average number of events in the interval.\n",
              "*   e is the base of the natural logarithm (approximately 2.71828).\n",
              "*   k! is the factorial of k (k * (k-1) * (k-2) * ... * 1).\n",
              "\n",
              "**2. Exponential Distribution:**\n",
              "\n",
              "Use the Exponential distribution when you want to model:\n",
              "\n",
              "*   **Time or space between events:** The time or distance between successive events in a Poisson process.\n",
              "*   **Events are random:** Events occur independently of each other.\n",
              "*   **Constant rate:** The average rate of events is constant.\n",
              "*   **Memoryless property:** The past has no impact on the future.  The probability of an event happening in the future is independent of how long we've been waiting.\n",
              "\n",
              "**Examples:**\n",
              "\n",
              "*   Time between customer arrivals at a store.\n",
              "*   Time until a machine breaks down.\n",
              "*   Lifespan of a component.\n",
              "*   Time between clicks on a website.\n",
              "*   Time between radioactive decays.\n",
              "\n",
              "**Formula:**\n",
              "\n",
              "f(x) = λ * e^(-λx)  for x ≥ 0\n",
              "\n",
              "Where:\n",
              "\n",
              "*   f(x) is the probability density function (PDF) at time x.\n",
              "*   λ (lambda) is the average rate of events (same as in the Poisson).\n",
              "*   e is the base of the natural logarithm.\n",
              "*   x is the time or space.\n",
              "\n",
              "**Key Differences Summarized:**\n",
              "\n",
              "| Feature           | Poisson Distribution                                 | Exponential Distribution                            |\n",
              "| ----------------- | --------------------------------------------------- | -------------------------------------------------- |\n",
              "| **Type**          | Discrete (counts)                                    | Continuous (time/space)                            |\n",
              "| **Models**        | Number of events in a fixed interval             | Time/space between events                        |\n",
              "| **Parameter**     | λ (average number of events in the interval)       | λ (average rate of events) or 1/λ (average time) |\n",
              "| **Question**      | \"How many events?\"                                 | \"How long until the next event?\"                   |\n",
              "| **Relationship**  | Describes the number of events in a Poisson process. | Describes the time between events in a Poisson process. |\n",
              "\n",
              "**In conclusion:**\n",
              "\n",
              "The Poisson and Exponential distributions are powerful tools for modeling random events. Understanding their inverse relationship and the situations where each is applicable allows you to analyze and predict event occurrences effectively.  Remember to check the assumptions of a Poisson process (randomness, independence, constant rate) before applying these distributions.\n"
            ],
            "text/plain": [
              "<IPython.core.display.Markdown object>"
            ]
          },
          "execution_count": 25,
          "metadata": {},
          "output_type": "execute_result"
        }
      ],
      "source": [
        "example_response = gen_model.generate_content(contents = 'Explain the relationship between the Poisson distribution \\\n",
        "                                        and the Exponential distribution and when to use each.')\n",
        "Markdown(example_response.text)"
      ]
    },
    {
      "cell_type": "markdown",
      "metadata": {
        "id": "IZU2scBeU8M_"
      },
      "source": [
        "# roBERTa"
      ]
    },
    {
      "cell_type": "markdown",
      "metadata": {},
      "source": [
        "We use the Twitter roBERTa model for analyzing Gemini's responses. The result is a probability for positive, neutral, and negative sentiment. For our purposes, we focus on the positive sentiment."
      ]
    },
    {
      "cell_type": "code",
      "execution_count": 26,
      "metadata": {
        "id": "KE_n9fGTVcEc"
      },
      "outputs": [],
      "source": [
        "from transformers import AutoModelForSequenceClassification\n",
        "from transformers import TFAutoModelForSequenceClassification\n",
        "from transformers import AutoTokenizer, AutoConfig\n",
        "from scipy.special import softmax"
      ]
    },
    {
      "cell_type": "code",
      "execution_count": 27,
      "metadata": {
        "colab": {
          "base_uri": "https://localhost:8080/",
          "height": 385,
          "referenced_widgets": [
            "3e1cc809c2054262990e068481c8fa69",
            "b0cdd778cdbf4ae5af5cff57b2053304",
            "5fa8fdb4264c457f86ef531465aa440f",
            "359b4c8fa2f24b7ba31ad62e0fd1e009",
            "37dc5ec56a3d4b19a04b93a51b8cc14a",
            "73b09a0ebb43441db1a7a4c40ebee342",
            "fc544f0a376948d28cd62a4ab3be3c8c",
            "6251b4b8b89d4450b23499876f1eed61",
            "6b1a58192d7142b78079e3cabe4bfa68",
            "a3b4e23232274ba9b57e313dab8bf9f6",
            "77d6e38edef64f47a1ec9816df4db343",
            "389cdf26ece74a7ebda515c8c9d1b521",
            "610ac6d4137d4f369b801b539b0a469a",
            "3849a275a3a64cf7b5e951e9998b6218",
            "f8a5b4d8a50b4bcd9cbae583319677b7",
            "5e879b8f40914124bc09e12cfda1d95e",
            "0b34cc74dd974c11b05bc11b259e31e3",
            "a9d2f44566834043915bff12eb743cc2",
            "bb9ffff6d1aa4afc994e0b2b0edb19b2",
            "4aba0df5e3934b1193d2b6807f430515",
            "0d86b8b1024a474c8ae61ec78b0c0f8b",
            "a7bbf9f6d745458993cd514c22612ff4",
            "91da7eddceca4b3a9af4615455699f5d",
            "95dea3be159a4217a133a34111afa75d",
            "b1714468cd8742ba8fb26eecc825bf06",
            "abbb8c20522d475c9463c37e6c439be9",
            "e3f3f2b4f7974f4a882c5289b019d604",
            "c8a8129c9b644ed3967a26c5c0b4a9e6",
            "c2d12a6eeb184e759ab48bebc6eba7b4",
            "1e1aacc0503c4316809d2c9ca0f0e87b",
            "aa04810c24cc45a6807d805ce77c3bae",
            "29725a56030d4596aec1450dad16a13c",
            "93b9f6a12e8646b8addf253f34898e85",
            "e4c1091e9c2843228cfdf654789be7a5",
            "f9e0c5215840450684fde8de62d8a75e",
            "525e99c70b614aa5b007bfdd0316568e",
            "0c9ae5733ebc468ab2a6bc0139d04b98",
            "2a98431fb06c453794009d7c3b0f4d42",
            "221a1046bca64a308d652175c35b4fd3",
            "29f2955c41a14638a54b6e1def7bd36f",
            "d915796a7ef2401b963e0c3c2d672e33",
            "b3953eb065984befacfeff94c08856cf",
            "fe6594176ca54de0873cc2e676d2eca1",
            "242269d1326a4bb38aae875868cc4a94",
            "577b741129a64243ab8265995751f315",
            "5c65c5e4fa8e4ff1915471c24c8f0b83",
            "3e430b78d4cd44c0b8895af1eca94343",
            "95923b2a5ad1427895fe655865619c4a",
            "1613d594c85c496a960675024f936299",
            "8c3fa2f565a74c56a5e77aa70c8832e5",
            "f9d94e035d10405489b65afb7d9a2a55",
            "a539088c371f4e50ba22af9a99084af1",
            "3bb18769825c45d3a1efaae3dc5ff474",
            "af99a5f15c874bc39fdaac67f405dadc",
            "9af2014069ee4b5c86b43504f9b51add",
            "c9e835eb27094590bf7f894c367460d8",
            "c89b8a44170b413bb3052cb5337b2258",
            "1901cad71f9042109adc8589bc942876",
            "59b0831a966d4609a5fa138695644ed3",
            "aa38a33efa1c49808e763ba9b5ef7a1f",
            "0e4019e60c8348708efbce9748c96635",
            "9a7bb28b5ffd43c4b4fa9aa5c0e5e90a",
            "2adc08ce54394bdc98b5bfe5326cab6c",
            "0398060fec2d401288e127a926d24870",
            "c1a03201fce2483daee289e0e5fbcdc9",
            "5c07774573f74ae5837b7d71101de936"
          ]
        },
        "id": "E01Nl0UK50fa",
        "outputId": "2651a7a7-88e8-43b5-97d3-0124d7e78a8f"
      },
      "outputs": [
        {
          "name": "stderr",
          "output_type": "stream",
          "text": [
            "Some weights of the model checkpoint at cardiffnlp/twitter-roberta-base-sentiment-latest were not used when initializing RobertaForSequenceClassification: ['roberta.pooler.dense.bias', 'roberta.pooler.dense.weight']\n",
            "- This IS expected if you are initializing RobertaForSequenceClassification from the checkpoint of a model trained on another task or with another architecture (e.g. initializing a BertForSequenceClassification model from a BertForPreTraining model).\n",
            "- This IS NOT expected if you are initializing RobertaForSequenceClassification from the checkpoint of a model that you expect to be exactly identical (initializing a BertForSequenceClassification model from a BertForSequenceClassification model).\n"
          ]
        }
      ],
      "source": [
        "# From the model's documentation\n",
        "MODEL = f\"cardiffnlp/twitter-roberta-base-sentiment-latest\"\n",
        "tokenizer = AutoTokenizer.from_pretrained(MODEL)\n",
        "config = AutoConfig.from_pretrained(MODEL)\n",
        "model = AutoModelForSequenceClassification.from_pretrained(MODEL)"
      ]
    },
    {
      "cell_type": "code",
      "execution_count": 4,
      "metadata": {
        "colab": {
          "base_uri": "https://localhost:8080/"
        },
        "id": "ikiwSc6IWe7x",
        "outputId": "5d68b498-cd86-4682-af49-9c598d584617"
      },
      "outputs": [
        {
          "name": "stdout",
          "output_type": "stream",
          "text": [
            "Negative: 0.007381893694400787,  Neutral: 0.13233020901679993, Positive: 0.8602879047393799\n"
          ]
        }
      ],
      "source": [
        "def preprocess(text):\n",
        "    '''\n",
        "    Preprocesses text for sentiment analysis.\n",
        "    '''\n",
        "    new_text = []\n",
        "    for t in text.split(\" \"):\n",
        "        t = '@user' if t.startswith('@') and len(t) > 1 else t\n",
        "        t = 'http' if t.startswith('http') else t\n",
        "        new_text.append(t)\n",
        "    return \" \".join(new_text)\n",
        "\n",
        "def evaluate_sentiment(text):\n",
        "    '''\n",
        "    Returns a list of scores for negative, neutral, and positive sentiment.\n",
        "    '''\n",
        "    text = preprocess(text)\n",
        "    encoded_input = tokenizer(text, return_tensors='pt')\n",
        "    output = model(**encoded_input)\n",
        "    scores = softmax(output[0][0].detach().numpy())\n",
        "    return scores\n",
        "\n",
        "test_sentiment = evaluate_sentiment(\"AI can enhance humans productivity.\")\n",
        "print(f'Negative: {test_sentiment[0]},  Neutral: {test_sentiment[1]}, Positive: {test_sentiment[2]}')"
      ]
    },
    {
      "cell_type": "markdown",
      "metadata": {
        "id": "A8y01r-QiRax"
      },
      "source": [
        "# Generating Responses and Doing the Sentiment Analysis"
      ]
    },
    {
      "cell_type": "code",
      "execution_count": 17,
      "metadata": {
        "id": "zHiTxNJNCGsg"
      },
      "outputs": [],
      "source": [
        "prompt_google = \"As the CEO of Google, describe in one paragraph\\\n",
        "to what extent the company can rely on AI tools for its software projects.\"\n",
        "prompt_startup = \"As the founder of a tech startup, describe in one paragraph\\\n",
        "to what extent the company can rely on AI tools for its software projects.\""
      ]
    },
    {
      "cell_type": "code",
      "execution_count": 12,
      "metadata": {},
      "outputs": [],
      "source": [
        "num_responses = 200\n",
        "rate_limit = 15\n",
        "\n",
        "output_file = 'responses.json'"
      ]
    },
    {
      "cell_type": "code",
      "execution_count": null,
      "metadata": {
        "colab": {
          "base_uri": "https://localhost:8080/"
        },
        "id": "zqki-I9mHt7x",
        "outputId": "6943aafd-fca0-4b0a-8831-455ddef7b371"
      },
      "outputs": [
        {
          "name": "stderr",
          "output_type": "stream",
          "text": [
            "100%|██████████| 200/200 [18:56<00:00,  5.68s/it]\n"
          ]
        }
      ],
      "source": [
        "responses_google = []\n",
        "responses_startup = []\n",
        "sentiment_score_google = []\n",
        "sentiment_score_startup = []\n",
        "\n",
        "for i in tqdm(range(num_responses)):\n",
        "    # Choose one of the two prompts with probability 0.5 each\n",
        "    prompt = str(np.random.choice([prompt_google, prompt_startup]))\n",
        "    response = gen_model.generate_content(contents = prompt)\n",
        "\n",
        "    if prompt == prompt_google:\n",
        "        responses_google.append(response.text)\n",
        "        sentiment_score_google.append([evaluate_sentiment(response.text)])\n",
        "    else:\n",
        "        responses_startup.append(response.text)\n",
        "        sentiment_score_startup.append(evaluate_sentiment(response.text))\n",
        "    # Pause for one minute when the requests limit is reached\n",
        "    if i%rate_limit == 0 and i != 0:\n",
        "        time.sleep(60)"
      ]
    },
    {
      "cell_type": "code",
      "execution_count": 48,
      "metadata": {
        "id": "N6TpWp0EL24t"
      },
      "outputs": [],
      "source": [
        "# selecting the positive probability\n",
        "positive_score_google = np.array(sentiment_score_google)[:, 2]\n",
        "positive_score_startup = np.array(sentiment_score_startup)[:, 2]"
      ]
    },
    {
      "cell_type": "code",
      "execution_count": null,
      "metadata": {
        "id": "2aKrJdLfLDmy"
      },
      "outputs": [],
      "source": [
        "# Writing the responses and their scores into a json file\n",
        "with open(output_file, 'w') as f:\n",
        "    json.dump({'responses_google': responses_google, 'responses_startup': responses_startup,\n",
        "               'positive_score_google': positive_score_google.tolist(), 'positive_score_startup': positive_score_startup.tolist()},\n",
        "              f, indent=4)"
      ]
    },
    {
      "cell_type": "code",
      "execution_count": null,
      "metadata": {},
      "outputs": [],
      "source": [
        "# loading the data from the json file\n",
        "with open('responses.json', 'r') as f:\n",
        "    data = json.load(f) \n",
        "\n",
        "positive_score_google = np.array(data['positive_score_google'])\n",
        "positive_score_startup = np.array(data['positive_score_startup'])\n"
      ]
    },
    {
      "cell_type": "markdown",
      "metadata": {
        "id": "2AczApVIK683"
      },
      "source": [
        "## Examining the Sentiment Scores"
      ]
    },
    {
      "cell_type": "code",
      "execution_count": 29,
      "metadata": {
        "colab": {
          "base_uri": "https://localhost:8080/"
        },
        "id": "x-dwzO9DOdhL",
        "outputId": "3d5736d4-6029-4259-d251-b4b6736b5925"
      },
      "outputs": [
        {
          "name": "stdout",
          "output_type": "stream",
          "text": [
            "Number of responses from Google CEO: 89\n",
            "Number of responses from Startup Founder: 111\n",
            "Mean Positive Score from Google CEO: 0.832\n",
            "Mean Positive Score from Startup Founder: 0.684\n"
          ]
        }
      ],
      "source": [
        "# Descriptive Statistics\n",
        "count_google = len(positive_score_google)\n",
        "count_startup = len(positive_score_startup)\n",
        "mean_google = np.around(np.mean(positive_score_google), 3)\n",
        "mean_startup = np.around(np.mean(positive_score_startup), 3)\n",
        "\n",
        "print(f'Number of responses from Google CEO: {count_google}')\n",
        "print(f'Number of responses from Startup Founder: {count_startup}')\n",
        "print(f'Mean Positive Score from Google CEO: {mean_google}')\n",
        "print(f'Mean Positive Score from Startup Founder: {mean_startup}')"
      ]
    },
    {
      "cell_type": "markdown",
      "metadata": {},
      "source": [
        "###  Distrbutions and Confidence Intervals\n",
        "While there is some overlap between the two distributions, the confidence intervals do not overlap, with the interval for google's response containing higher scores. With non-overlapping intervals, we can expect that we will reject the null hypothesis that there is no difference between the distribution mean ($\\mu_{google} - \\mu_{startup} = 0$)."
      ]
    },
    {
      "cell_type": "code",
      "execution_count": 18,
      "metadata": {
        "colab": {
          "base_uri": "https://localhost:8080/",
          "height": 449
        },
        "id": "6XZb89M-LBlk",
        "outputId": "5baf56e5-31b9-4d56-f462-9339988046ef"
      },
      "outputs": [
        {
          "data": {
            "image/png": "[encoded data removed]",
            "text/plain": [
              "<Figure size 640x480 with 1 Axes>"
            ]
          },
          "metadata": {},
          "output_type": "display_data"
        }
      ],
      "source": [
        "plt.figure()\n",
        "plt.hist(positive_score_google, density=True, edgecolor='white',\n",
        "         bins=20, alpha=0.6, label='Google')\n",
        "plt.hist(positive_score_startup, density=True, edgecolor='white',\n",
        "         bins=20, alpha=0.6, label='Startup')\n",
        "plt.axvline(mean_google, color='blue', linestyle='dashed',\n",
        "            linewidth=1, label=f'Mean Google: {mean_google:.2f}')\n",
        "plt.axvline(mean_startup, color='orange', linestyle='dashed',\n",
        "            linewidth=1, label=f'Mean Startup: {mean_startup:.2f}')\n",
        "plt.legend()\n",
        "plt.xlabel('Positive Sentiment Probability')\n",
        "plt.ylabel('Frequency')\n",
        "plt.show()"
      ]
    },
    {
      "cell_type": "markdown",
      "metadata": {},
      "source": [
        "Before proceeding with the confidence intervals and statistical significance tests, we check the data for normality. The above histogram show that the google data is left-skewed. We also check the Q-Q plot. Although the data does not exactly follow the line, it is still close enough. Given the large sample size (89 and 111), we can still work with such skewed data and proceed with the t-distribution. "
      ]
    },
    {
      "cell_type": "code",
      "execution_count": 24,
      "metadata": {
        "id": "th9TdgFCzW2_"
      },
      "outputs": [
        {
          "data": {
            "image/png": "[encoded data removed]",
            "text/plain": [
              "<Figure size 640x480 with 1 Axes>"
            ]
          },
          "metadata": {},
          "output_type": "display_data"
        },
        {
          "data": {
            "image/png": "[encoded data removed]",
            "text/plain": [
              "<Figure size 640x480 with 1 Axes>"
            ]
          },
          "metadata": {},
          "output_type": "display_data"
        }
      ],
      "source": [
        "# QQ plot\n",
        "sts.probplot(positive_score_google, dist=\"norm\", plot=plt)\n",
        "plt.title('Probability Plot for Google')\n",
        "plt.show()\n",
        "\n",
        "sts.probplot(positive_score_startup, dist=\"norm\", plot=plt)\n",
        "plt.title('Probability Plot for Startup')\n",
        "plt.show()"
      ]
    },
    {
      "cell_type": "markdown",
      "metadata": {},
      "source": [
        "### Confidence Intervals (95%)"
      ]
    },
    {
      "cell_type": "code",
      "execution_count": 6,
      "metadata": {},
      "outputs": [],
      "source": [
        "# Calculating standard errors of the means\n",
        "CI_google = sts.t.interval(confidence=0.95, \n",
        "                            df=count_google-1, \n",
        "                            loc=mean_google, \n",
        "                            scale=sts.sem(positive_score_google))\n",
        "CI_startup = sts.t.interval(confidence=0.95, \n",
        "                            df=count_startup-1, \n",
        "                            loc=mean_startup, \n",
        "                            scale=sts.sem(positive_score_startup))\n"
      ]
    },
    {
      "cell_type": "code",
      "execution_count": 7,
      "metadata": {},
      "outputs": [
        {
          "data": {
            "image/png": "[encoded data removed]",
            "text/plain": [
              "<Figure size 640x480 with 1 Axes>"
            ]
          },
          "metadata": {},
          "output_type": "display_data"
        }
      ],
      "source": [
        "\n",
        "plt.figure()\n",
        "plt.hist(positive_score_google, density=True, edgecolor='white',\n",
        "         bins=20, alpha=0.6, label='Google')\n",
        "plt.hist(positive_score_startup, density=True, edgecolor='white',\n",
        "         bins=20, alpha=0.6, label='Startup')\n",
        "plt.axvline(CI_google[0], color='blue', linestyle='dashed',\n",
        "            linewidth=1, label='95% Google')\n",
        "plt.axvline(CI_google[1], color='blue', linestyle='dashed',\n",
        "            linewidth=1)\n",
        "\n",
        "plt.axvline(CI_startup[0], color='orange', linestyle='dashed',\n",
        "            linewidth=1, label='95% Startup')\n",
        "plt.axvline(CI_startup[1], color='orange', linestyle='dashed',\n",
        "            linewidth=1)\n",
        "\n",
        "plt.legend()\n",
        "plt.xlabel('Positive Sentiment Probability')\n",
        "plt.ylabel('Frequency')\n",
        "plt.show()"
      ]
    },
    {
      "cell_type": "markdown",
      "metadata": {},
      "source": [
        "## Statistical Significance"
      ]
    },
    {
      "cell_type": "markdown",
      "metadata": {},
      "source": [
        "To calculate the p-value, we need to calculate the t-score for the difference in means. $$T = \\frac{(\\mu_{g} - \\mu_{s}) - 0}{\\sqrt{\\frac{s_{g}^2}{n_{g}} + \\frac{s_{s}^2}{n_{s}}}}$$, where $\\mu_{g} (\\mu_{s})$ is the mean for Google (startup), $s_{g}\\; (s_{s})$ is the standard deviation for Google (startup), $n_{g} \\; (n_{s})$ is the number of responses for Google (startup), and the whole denominator is the standard error of the difference in means.\n"
      ]
    },
    {
      "cell_type": "code",
      "execution_count": 30,
      "metadata": {},
      "outputs": [
        {
          "name": "stdout",
          "output_type": "stream",
          "text": [
            "t-value = 10.52771274277821 \n",
            "p-value = 1.494042940473112e-17\n"
          ]
        }
      ],
      "source": [
        "SE_mean_diff = np.sqrt((sts.sem(positive_score_google))**2 + (sts.sem(positive_score_startup))**2)\n",
        "t = (mean_google - mean_startup)/SE_mean_diff\n",
        "p_value = sts.t.sf(t, df=min(count_google, count_startup)-1)\n",
        "print(f't-value = {t} \\np-value = {p_value}')"
      ]
    },
    {
      "cell_type": "markdown",
      "metadata": {},
      "source": [
        "## Google vs Microsoft"
      ]
    },
    {
      "cell_type": "code",
      "execution_count": 28,
      "metadata": {},
      "outputs": [
        {
          "name": "stderr",
          "output_type": "stream",
          "text": [
            "100%|██████████| 100/100 [09:34<00:00,  5.74s/it]\n"
          ]
        }
      ],
      "source": [
        "prompt_microsoft = \"As the CEO of Microsoft, describe in one paragraph\\\n",
        "to what extent the company can rely on AI tools for its software projects.\"\n",
        "\n",
        "responses_microsoft = []\n",
        "positive_score_microsoft = []\n",
        "\n",
        "for i in tqdm(range(100)):\n",
        "    response = gen_model.generate_content(contents=prompt_microsoft)\n",
        "    responses_microsoft.append(response.text)\n",
        "    positive_score_microsoft.append(evaluate_sentiment(response.text)[2])\n",
        "\n",
        "    if i%rate_limit == 0:\n",
        "        time.sleep(60)"
      ]
    },
    {
      "cell_type": "code",
      "execution_count": 32,
      "metadata": {},
      "outputs": [],
      "source": [
        "positive_score_microsoft = [float(score) for score in positive_score_microsoft]"
      ]
    },
    {
      "cell_type": "code",
      "execution_count": null,
      "metadata": {},
      "outputs": [],
      "source": [
        "# Storing the data \n",
        "new_data = {'positive_score_microsoft': positive_score_microsoft}\n",
        "\n",
        "with open('responses.json', 'r+') as f:\n",
        "    data = json.load(f) \n",
        "    data.update(new_data)\n",
        "    f.seek(0)\n",
        "    json.dump(data, f, indent=4)\n"
      ]
    },
    {
      "cell_type": "code",
      "execution_count": 13,
      "metadata": {},
      "outputs": [],
      "source": [
        "with open('responses.json', 'r') as f:\n",
        "    data = json.load(f)\n",
        "\n",
        "positive_score_microsoft = data['positive_score_microsoft']"
      ]
    },
    {
      "cell_type": "markdown",
      "metadata": {},
      "source": [
        "### Analysis"
      ]
    },
    {
      "cell_type": "code",
      "execution_count": 21,
      "metadata": {},
      "outputs": [
        {
          "data": {
            "text/plain": [
              "Text(0, 0.5, 'Frequency')"
            ]
          },
          "execution_count": 21,
          "metadata": {},
          "output_type": "execute_result"
        },
        {
          "data": {
            "image/png": "[encoded data removed]",
            "text/plain": [
              "<Figure size 640x480 with 1 Axes>"
            ]
          },
          "metadata": {},
          "output_type": "display_data"
        }
      ],
      "source": [
        "mean_microsoft = np.mean(positive_score_microsoft)\n",
        "count_microsoft = len(positive_score_microsoft)\n",
        "\n",
        "CI_microsoft = sts.t.interval(0.95,\n",
        "                                 count_microsoft-1,\n",
        "                                 loc=mean_microsoft, \n",
        "                                 scale=sts.sem(positive_score_microsoft))\n",
        "\n",
        "plt.hist(positive_score_microsoft, bins=15, \n",
        "         edgecolor='white', alpha=0.6, label='Microsoft')\n",
        "plt.hist(positive_score_google, bins=15,\n",
        "         edgecolor='white', alpha=0.6, label='Google')\n",
        "plt.axvline(CI_microsoft[0], color='blue', \n",
        "            linestyle='dashed', linewidth=2, label='95% CI')\n",
        "plt.axvline(CI_microsoft[1], color='blue', linestyle='dashed', linewidth=2)\n",
        "plt.axvline(CI_google[0], color='orange', linestyle='dashed', linewidth=2, label='95% CI')\n",
        "plt.axvline(CI_google[1], color='orange', linestyle='dashed', linewidth=2)\n",
        "plt.legend()\n",
        "plt.xlabel('Positive Score')\n",
        "plt.ylabel('Frequency')"
      ]
    },
    {
      "cell_type": "code",
      "execution_count": 27,
      "metadata": {},
      "outputs": [
        {
          "name": "stdout",
          "output_type": "stream",
          "text": [
            "t-value = -0.7777842465122089 \n",
            "p-value = 0.7806088448415258\n"
          ]
        }
      ],
      "source": [
        "SE_mean_google_microsoft = np.sqrt((sts.sem(positive_score_google))**2 \\\n",
        "                                 + (sts.sem(positive_score_microsoft))**2)\n",
        "t_google_microsoft = (mean_google - mean_microsoft)/SE_mean_google_microsoft\n",
        "p_value_google_microsoft = sts.t.sf(t_google_microsoft, \n",
        "                                    df=min(count_google, count_microsoft)-1)\n",
        "print(f't-value = {t_google_microsoft} \\np-value = {p_value_google_microsoft}')"
      ]
    }
  ],
  "metadata": {
    "colab": {
      "provenance": []
    },
    "kernelspec": {
      "display_name": "Python 3",
      "name": "python3"
    },
    "language_info": {
      "codemirror_mode": {
        "name": "ipython",
        "version": 3
      },
      "file_extension": ".py",
      "mimetype": "text/x-python",
      "name": "python",
      "nbconvert_exporter": "python",
      "pygments_lexer": "ipython3",
      "version": "3.13.3"
    },
    "widgets": {
      "application/vnd.jupyter.widget-state+json": {
        "0398060fec2d401288e127a926d24870": {
          "model_module": "@jupyter-widgets/controls",
          "model_module_version": "1.5.0",
          "model_name": "ProgressStyleModel",
          "state": {
            "_model_module": "@jupyter-widgets/controls",
            "_model_module_version": "1.5.0",
            "_model_name": "ProgressStyleModel",
            "_view_count": null,
            "_view_module": "@jupyter-widgets/base",
            "_view_module_version": "1.2.0",
            "_view_name": "StyleView",
            "bar_color": null,
            "description_width": ""
          }
        },
        "0b34cc74dd974c11b05bc11b259e31e3": {
          "model_module": "@jupyter-widgets/base",
          "model_module_version": "1.2.0",
          "model_name": "LayoutModel",
          "state": {
            "_model_module": "@jupyter-widgets/base",
            "_model_module_version": "1.2.0",
            "_model_name": "LayoutModel",
            "_view_count": null,
            "_view_module": "@jupyter-widgets/base",
            "_view_module_version": "1.2.0",
            "_view_name": "LayoutView",
            "align_content": null,
            "align_items": null,
            "align_self": null,
            "border": null,
            "bottom": null,
            "display": null,
            "flex": null,
            "flex_flow": null,
            "grid_area": null,
            "grid_auto_columns": null,
            "grid_auto_flow": null,
            "grid_auto_rows": null,
            "grid_column": null,
            "grid_gap": null,
            "grid_row": null,
            "grid_template_areas": null,
            "grid_template_columns": null,
            "grid_template_rows": null,
            "height": null,
            "justify_content": null,
            "justify_items": null,
            "left": null,
            "margin": null,
            "max_height": null,
            "max_width": null,
            "min_height": null,
            "min_width": null,
            "object_fit": null,
            "object_position": null,
            "order": null,
            "overflow": null,
            "overflow_x": null,
            "overflow_y": null,
            "padding": null,
            "right": null,
            "top": null,
            "visibility": null,
            "width": null
          }
        },
        "0c9ae5733ebc468ab2a6bc0139d04b98": {
          "model_module": "@jupyter-widgets/controls",
          "model_module_version": "1.5.0",
          "model_name": "HTMLModel",
          "state": {
            "_dom_classes": [],
            "_model_module": "@jupyter-widgets/controls",
            "_model_module_version": "1.5.0",
            "_model_name": "HTMLModel",
            "_view_count": null,
            "_view_module": "@jupyter-widgets/controls",
            "_view_module_version": "1.5.0",
            "_view_name": "HTMLView",
            "description": "",
            "description_tooltip": null,
            "layout": "IPY_MODEL_fe6594176ca54de0873cc2e676d2eca1",
            "placeholder": "​",
            "style": "IPY_MODEL_242269d1326a4bb38aae875868cc4a94",
            "value": " 239/239 [00:00&lt;00:00, 15.8kB/s]"
          }
        },
        "0d86b8b1024a474c8ae61ec78b0c0f8b": {
          "model_module": "@jupyter-widgets/base",
          "model_module_version": "1.2.0",
          "model_name": "LayoutModel",
          "state": {
            "_model_module": "@jupyter-widgets/base",
            "_model_module_version": "1.2.0",
            "_model_name": "LayoutModel",
            "_view_count": null,
            "_view_module": "@jupyter-widgets/base",
            "_view_module_version": "1.2.0",
            "_view_name": "LayoutView",
            "align_content": null,
            "align_items": null,
            "align_self": null,
            "border": null,
            "bottom": null,
            "display": null,
            "flex": null,
            "flex_flow": null,
            "grid_area": null,
            "grid_auto_columns": null,
            "grid_auto_flow": null,
            "grid_auto_rows": null,
            "grid_column": null,
            "grid_gap": null,
            "grid_row": null,
            "grid_template_areas": null,
            "grid_template_columns": null,
            "grid_template_rows": null,
            "height": null,
            "justify_content": null,
            "justify_items": null,
            "left": null,
            "margin": null,
            "max_height": null,
            "max_width": null,
            "min_height": null,
            "min_width": null,
            "object_fit": null,
            "object_position": null,
            "order": null,
            "overflow": null,
            "overflow_x": null,
            "overflow_y": null,
            "padding": null,
            "right": null,
            "top": null,
            "visibility": null,
            "width": null
          }
        },
        "0e4019e60c8348708efbce9748c96635": {
          "model_module": "@jupyter-widgets/base",
          "model_module_version": "1.2.0",
          "model_name": "LayoutModel",
          "state": {
            "_model_module": "@jupyter-widgets/base",
            "_model_module_version": "1.2.0",
            "_model_name": "LayoutModel",
            "_view_count": null,
            "_view_module": "@jupyter-widgets/base",
            "_view_module_version": "1.2.0",
            "_view_name": "LayoutView",
            "align_content": null,
            "align_items": null,
            "align_self": null,
            "border": null,
            "bottom": null,
            "display": null,
            "flex": null,
            "flex_flow": null,
            "grid_area": null,
            "grid_auto_columns": null,
            "grid_auto_flow": null,
            "grid_auto_rows": null,
            "grid_column": null,
            "grid_gap": null,
            "grid_row": null,
            "grid_template_areas": null,
            "grid_template_columns": null,
            "grid_template_rows": null,
            "height": null,
            "justify_content": null,
            "justify_items": null,
            "left": null,
            "margin": null,
            "max_height": null,
            "max_width": null,
            "min_height": null,
            "min_width": null,
            "object_fit": null,
            "object_position": null,
            "order": null,
            "overflow": null,
            "overflow_x": null,
            "overflow_y": null,
            "padding": null,
            "right": null,
            "top": null,
            "visibility": null,
            "width": null
          }
        },
        "1613d594c85c496a960675024f936299": {
          "model_module": "@jupyter-widgets/base",
          "model_module_version": "1.2.0",
          "model_name": "LayoutModel",
          "state": {
            "_model_module": "@jupyter-widgets/base",
            "_model_module_version": "1.2.0",
            "_model_name": "LayoutModel",
            "_view_count": null,
            "_view_module": "@jupyter-widgets/base",
            "_view_module_version": "1.2.0",
            "_view_name": "LayoutView",
            "align_content": null,
            "align_items": null,
            "align_self": null,
            "border": null,
            "bottom": null,
            "display": null,
            "flex": null,
            "flex_flow": null,
            "grid_area": null,
            "grid_auto_columns": null,
            "grid_auto_flow": null,
            "grid_auto_rows": null,
            "grid_column": null,
            "grid_gap": null,
            "grid_row": null,
            "grid_template_areas": null,
            "grid_template_columns": null,
            "grid_template_rows": null,
            "height": null,
            "justify_content": null,
            "justify_items": null,
            "left": null,
            "margin": null,
            "max_height": null,
            "max_width": null,
            "min_height": null,
            "min_width": null,
            "object_fit": null,
            "object_position": null,
            "order": null,
            "overflow": null,
            "overflow_x": null,
            "overflow_y": null,
            "padding": null,
            "right": null,
            "top": null,
            "visibility": null,
            "width": null
          }
        },
        "1901cad71f9042109adc8589bc942876": {
          "model_module": "@jupyter-widgets/controls",
          "model_module_version": "1.5.0",
          "model_name": "FloatProgressModel",
          "state": {
            "_dom_classes": [],
            "_model_module": "@jupyter-widgets/controls",
            "_model_module_version": "1.5.0",
            "_model_name": "FloatProgressModel",
            "_view_count": null,
            "_view_module": "@jupyter-widgets/controls",
            "_view_module_version": "1.5.0",
            "_view_name": "ProgressView",
            "bar_style": "success",
            "description": "",
            "description_tooltip": null,
            "layout": "IPY_MODEL_2adc08ce54394bdc98b5bfe5326cab6c",
            "max": 500982668,
            "min": 0,
            "orientation": "horizontal",
            "style": "IPY_MODEL_0398060fec2d401288e127a926d24870",
            "value": 500982668
          }
        },
        "1e1aacc0503c4316809d2c9ca0f0e87b": {
          "model_module": "@jupyter-widgets/base",
          "model_module_version": "1.2.0",
          "model_name": "LayoutModel",
          "state": {
            "_model_module": "@jupyter-widgets/base",
            "_model_module_version": "1.2.0",
            "_model_name": "LayoutModel",
            "_view_count": null,
            "_view_module": "@jupyter-widgets/base",
            "_view_module_version": "1.2.0",
            "_view_name": "LayoutView",
            "align_content": null,
            "align_items": null,
            "align_self": null,
            "border": null,
            "bottom": null,
            "display": null,
            "flex": null,
            "flex_flow": null,
            "grid_area": null,
            "grid_auto_columns": null,
            "grid_auto_flow": null,
            "grid_auto_rows": null,
            "grid_column": null,
            "grid_gap": null,
            "grid_row": null,
            "grid_template_areas": null,
            "grid_template_columns": null,
            "grid_template_rows": null,
            "height": null,
            "justify_content": null,
            "justify_items": null,
            "left": null,
            "margin": null,
            "max_height": null,
            "max_width": null,
            "min_height": null,
            "min_width": null,
            "object_fit": null,
            "object_position": null,
            "order": null,
            "overflow": null,
            "overflow_x": null,
            "overflow_y": null,
            "padding": null,
            "right": null,
            "top": null,
            "visibility": null,
            "width": null
          }
        },
        "221a1046bca64a308d652175c35b4fd3": {
          "model_module": "@jupyter-widgets/base",
          "model_module_version": "1.2.0",
          "model_name": "LayoutModel",
          "state": {
            "_model_module": "@jupyter-widgets/base",
            "_model_module_version": "1.2.0",
            "_model_name": "LayoutModel",
            "_view_count": null,
            "_view_module": "@jupyter-widgets/base",
            "_view_module_version": "1.2.0",
            "_view_name": "LayoutView",
            "align_content": null,
            "align_items": null,
            "align_self": null,
            "border": null,
            "bottom": null,
            "display": null,
            "flex": null,
            "flex_flow": null,
            "grid_area": null,
            "grid_auto_columns": null,
            "grid_auto_flow": null,
            "grid_auto_rows": null,
            "grid_column": null,
            "grid_gap": null,
            "grid_row": null,
            "grid_template_areas": null,
            "grid_template_columns": null,
            "grid_template_rows": null,
            "height": null,
            "justify_content": null,
            "justify_items": null,
            "left": null,
            "margin": null,
            "max_height": null,
            "max_width": null,
            "min_height": null,
            "min_width": null,
            "object_fit": null,
            "object_position": null,
            "order": null,
            "overflow": null,
            "overflow_x": null,
            "overflow_y": null,
            "padding": null,
            "right": null,
            "top": null,
            "visibility": null,
            "width": null
          }
        },
        "242269d1326a4bb38aae875868cc4a94": {
          "model_module": "@jupyter-widgets/controls",
          "model_module_version": "1.5.0",
          "model_name": "DescriptionStyleModel",
          "state": {
            "_model_module": "@jupyter-widgets/controls",
            "_model_module_version": "1.5.0",
            "_model_name": "DescriptionStyleModel",
            "_view_count": null,
            "_view_module": "@jupyter-widgets/base",
            "_view_module_version": "1.2.0",
            "_view_name": "StyleView",
            "description_width": ""
          }
        },
        "29725a56030d4596aec1450dad16a13c": {
          "model_module": "@jupyter-widgets/base",
          "model_module_version": "1.2.0",
          "model_name": "LayoutModel",
          "state": {
            "_model_module": "@jupyter-widgets/base",
            "_model_module_version": "1.2.0",
            "_model_name": "LayoutModel",
            "_view_count": null,
            "_view_module": "@jupyter-widgets/base",
            "_view_module_version": "1.2.0",
            "_view_name": "LayoutView",
            "align_content": null,
            "align_items": null,
            "align_self": null,
            "border": null,
            "bottom": null,
            "display": null,
            "flex": null,
            "flex_flow": null,
            "grid_area": null,
            "grid_auto_columns": null,
            "grid_auto_flow": null,
            "grid_auto_rows": null,
            "grid_column": null,
            "grid_gap": null,
            "grid_row": null,
            "grid_template_areas": null,
            "grid_template_columns": null,
            "grid_template_rows": null,
            "height": null,
            "justify_content": null,
            "justify_items": null,
            "left": null,
            "margin": null,
            "max_height": null,
            "max_width": null,
            "min_height": null,
            "min_width": null,
            "object_fit": null,
            "object_position": null,
            "order": null,
            "overflow": null,
            "overflow_x": null,
            "overflow_y": null,
            "padding": null,
            "right": null,
            "top": null,
            "visibility": null,
            "width": null
          }
        },
        "29f2955c41a14638a54b6e1def7bd36f": {
          "model_module": "@jupyter-widgets/controls",
          "model_module_version": "1.5.0",
          "model_name": "DescriptionStyleModel",
          "state": {
            "_model_module": "@jupyter-widgets/controls",
            "_model_module_version": "1.5.0",
            "_model_name": "DescriptionStyleModel",
            "_view_count": null,
            "_view_module": "@jupyter-widgets/base",
            "_view_module_version": "1.2.0",
            "_view_name": "StyleView",
            "description_width": ""
          }
        },
        "2a98431fb06c453794009d7c3b0f4d42": {
          "model_module": "@jupyter-widgets/base",
          "model_module_version": "1.2.0",
          "model_name": "LayoutModel",
          "state": {
            "_model_module": "@jupyter-widgets/base",
            "_model_module_version": "1.2.0",
            "_model_name": "LayoutModel",
            "_view_count": null,
            "_view_module": "@jupyter-widgets/base",
            "_view_module_version": "1.2.0",
            "_view_name": "LayoutView",
            "align_content": null,
            "align_items": null,
            "align_self": null,
            "border": null,
            "bottom": null,
            "display": null,
            "flex": null,
            "flex_flow": null,
            "grid_area": null,
            "grid_auto_columns": null,
            "grid_auto_flow": null,
            "grid_auto_rows": null,
            "grid_column": null,
            "grid_gap": null,
            "grid_row": null,
            "grid_template_areas": null,
            "grid_template_columns": null,
            "grid_template_rows": null,
            "height": null,
            "justify_content": null,
            "justify_items": null,
            "left": null,
            "margin": null,
            "max_height": null,
            "max_width": null,
            "min_height": null,
            "min_width": null,
            "object_fit": null,
            "object_position": null,
            "order": null,
            "overflow": null,
            "overflow_x": null,
            "overflow_y": null,
            "padding": null,
            "right": null,
            "top": null,
            "visibility": null,
            "width": null
          }
        },
        "2adc08ce54394bdc98b5bfe5326cab6c": {
          "model_module": "@jupyter-widgets/base",
          "model_module_version": "1.2.0",
          "model_name": "LayoutModel",
          "state": {
            "_model_module": "@jupyter-widgets/base",
            "_model_module_version": "1.2.0",
            "_model_name": "LayoutModel",
            "_view_count": null,
            "_view_module": "@jupyter-widgets/base",
            "_view_module_version": "1.2.0",
            "_view_name": "LayoutView",
            "align_content": null,
            "align_items": null,
            "align_self": null,
            "border": null,
            "bottom": null,
            "display": null,
            "flex": null,
            "flex_flow": null,
            "grid_area": null,
            "grid_auto_columns": null,
            "grid_auto_flow": null,
            "grid_auto_rows": null,
            "grid_column": null,
            "grid_gap": null,
            "grid_row": null,
            "grid_template_areas": null,
            "grid_template_columns": null,
            "grid_template_rows": null,
            "height": null,
            "justify_content": null,
            "justify_items": null,
            "left": null,
            "margin": null,
            "max_height": null,
            "max_width": null,
            "min_height": null,
            "min_width": null,
            "object_fit": null,
            "object_position": null,
            "order": null,
            "overflow": null,
            "overflow_x": null,
            "overflow_y": null,
            "padding": null,
            "right": null,
            "top": null,
            "visibility": null,
            "width": null
          }
        },
        "359b4c8fa2f24b7ba31ad62e0fd1e009": {
          "model_module": "@jupyter-widgets/controls",
          "model_module_version": "1.5.0",
          "model_name": "HTMLModel",
          "state": {
            "_dom_classes": [],
            "_model_module": "@jupyter-widgets/controls",
            "_model_module_version": "1.5.0",
            "_model_name": "HTMLModel",
            "_view_count": null,
            "_view_module": "@jupyter-widgets/controls",
            "_view_module_version": "1.5.0",
            "_view_name": "HTMLView",
            "description": "",
            "description_tooltip": null,
            "layout": "IPY_MODEL_a3b4e23232274ba9b57e313dab8bf9f6",
            "placeholder": "​",
            "style": "IPY_MODEL_77d6e38edef64f47a1ec9816df4db343",
            "value": " 929/929 [00:00&lt;00:00, 72.0kB/s]"
          }
        },
        "37dc5ec56a3d4b19a04b93a51b8cc14a": {
          "model_module": "@jupyter-widgets/base",
          "model_module_version": "1.2.0",
          "model_name": "LayoutModel",
          "state": {
            "_model_module": "@jupyter-widgets/base",
            "_model_module_version": "1.2.0",
            "_model_name": "LayoutModel",
            "_view_count": null,
            "_view_module": "@jupyter-widgets/base",
            "_view_module_version": "1.2.0",
            "_view_name": "LayoutView",
            "align_content": null,
            "align_items": null,
            "align_self": null,
            "border": null,
            "bottom": null,
            "display": null,
            "flex": null,
            "flex_flow": null,
            "grid_area": null,
            "grid_auto_columns": null,
            "grid_auto_flow": null,
            "grid_auto_rows": null,
            "grid_column": null,
            "grid_gap": null,
            "grid_row": null,
            "grid_template_areas": null,
            "grid_template_columns": null,
            "grid_template_rows": null,
            "height": null,
            "justify_content": null,
            "justify_items": null,
            "left": null,
            "margin": null,
            "max_height": null,
            "max_width": null,
            "min_height": null,
            "min_width": null,
            "object_fit": null,
            "object_position": null,
            "order": null,
            "overflow": null,
            "overflow_x": null,
            "overflow_y": null,
            "padding": null,
            "right": null,
            "top": null,
            "visibility": null,
            "width": null
          }
        },
        "3849a275a3a64cf7b5e951e9998b6218": {
          "model_module": "@jupyter-widgets/controls",
          "model_module_version": "1.5.0",
          "model_name": "FloatProgressModel",
          "state": {
            "_dom_classes": [],
            "_model_module": "@jupyter-widgets/controls",
            "_model_module_version": "1.5.0",
            "_model_name": "FloatProgressModel",
            "_view_count": null,
            "_view_module": "@jupyter-widgets/controls",
            "_view_module_version": "1.5.0",
            "_view_name": "ProgressView",
            "bar_style": "success",
            "description": "",
            "description_tooltip": null,
            "layout": "IPY_MODEL_bb9ffff6d1aa4afc994e0b2b0edb19b2",
            "max": 898822,
            "min": 0,
            "orientation": "horizontal",
            "style": "IPY_MODEL_4aba0df5e3934b1193d2b6807f430515",
            "value": 898822
          }
        },
        "389cdf26ece74a7ebda515c8c9d1b521": {
          "model_module": "@jupyter-widgets/controls",
          "model_module_version": "1.5.0",
          "model_name": "HBoxModel",
          "state": {
            "_dom_classes": [],
            "_model_module": "@jupyter-widgets/controls",
            "_model_module_version": "1.5.0",
            "_model_name": "HBoxModel",
            "_view_count": null,
            "_view_module": "@jupyter-widgets/controls",
            "_view_module_version": "1.5.0",
            "_view_name": "HBoxView",
            "box_style": "",
            "children": [
              "IPY_MODEL_610ac6d4137d4f369b801b539b0a469a",
              "IPY_MODEL_3849a275a3a64cf7b5e951e9998b6218",
              "IPY_MODEL_f8a5b4d8a50b4bcd9cbae583319677b7"
            ],
            "layout": "IPY_MODEL_5e879b8f40914124bc09e12cfda1d95e"
          }
        },
        "3bb18769825c45d3a1efaae3dc5ff474": {
          "model_module": "@jupyter-widgets/controls",
          "model_module_version": "1.5.0",
          "model_name": "ProgressStyleModel",
          "state": {
            "_model_module": "@jupyter-widgets/controls",
            "_model_module_version": "1.5.0",
            "_model_name": "ProgressStyleModel",
            "_view_count": null,
            "_view_module": "@jupyter-widgets/base",
            "_view_module_version": "1.2.0",
            "_view_name": "StyleView",
            "bar_color": null,
            "description_width": ""
          }
        },
        "3e1cc809c2054262990e068481c8fa69": {
          "model_module": "@jupyter-widgets/controls",
          "model_module_version": "1.5.0",
          "model_name": "HBoxModel",
          "state": {
            "_dom_classes": [],
            "_model_module": "@jupyter-widgets/controls",
            "_model_module_version": "1.5.0",
            "_model_name": "HBoxModel",
            "_view_count": null,
            "_view_module": "@jupyter-widgets/controls",
            "_view_module_version": "1.5.0",
            "_view_name": "HBoxView",
            "box_style": "",
            "children": [
              "IPY_MODEL_b0cdd778cdbf4ae5af5cff57b2053304",
              "IPY_MODEL_5fa8fdb4264c457f86ef531465aa440f",
              "IPY_MODEL_359b4c8fa2f24b7ba31ad62e0fd1e009"
            ],
            "layout": "IPY_MODEL_37dc5ec56a3d4b19a04b93a51b8cc14a"
          }
        },
        "3e430b78d4cd44c0b8895af1eca94343": {
          "model_module": "@jupyter-widgets/controls",
          "model_module_version": "1.5.0",
          "model_name": "FloatProgressModel",
          "state": {
            "_dom_classes": [],
            "_model_module": "@jupyter-widgets/controls",
            "_model_module_version": "1.5.0",
            "_model_name": "FloatProgressModel",
            "_view_count": null,
            "_view_module": "@jupyter-widgets/controls",
            "_view_module_version": "1.5.0",
            "_view_name": "ProgressView",
            "bar_style": "success",
            "description": "",
            "description_tooltip": null,
            "layout": "IPY_MODEL_a539088c371f4e50ba22af9a99084af1",
            "max": 501045531,
            "min": 0,
            "orientation": "horizontal",
            "style": "IPY_MODEL_3bb18769825c45d3a1efaae3dc5ff474",
            "value": 501045531
          }
        },
        "4aba0df5e3934b1193d2b6807f430515": {
          "model_module": "@jupyter-widgets/controls",
          "model_module_version": "1.5.0",
          "model_name": "ProgressStyleModel",
          "state": {
            "_model_module": "@jupyter-widgets/controls",
            "_model_module_version": "1.5.0",
            "_model_name": "ProgressStyleModel",
            "_view_count": null,
            "_view_module": "@jupyter-widgets/base",
            "_view_module_version": "1.2.0",
            "_view_name": "StyleView",
            "bar_color": null,
            "description_width": ""
          }
        },
        "525e99c70b614aa5b007bfdd0316568e": {
          "model_module": "@jupyter-widgets/controls",
          "model_module_version": "1.5.0",
          "model_name": "FloatProgressModel",
          "state": {
            "_dom_classes": [],
            "_model_module": "@jupyter-widgets/controls",
            "_model_module_version": "1.5.0",
            "_model_name": "FloatProgressModel",
            "_view_count": null,
            "_view_module": "@jupyter-widgets/controls",
            "_view_module_version": "1.5.0",
            "_view_name": "ProgressView",
            "bar_style": "success",
            "description": "",
            "description_tooltip": null,
            "layout": "IPY_MODEL_d915796a7ef2401b963e0c3c2d672e33",
            "max": 239,
            "min": 0,
            "orientation": "horizontal",
            "style": "IPY_MODEL_b3953eb065984befacfeff94c08856cf",
            "value": 239
          }
        },
        "577b741129a64243ab8265995751f315": {
          "model_module": "@jupyter-widgets/controls",
          "model_module_version": "1.5.0",
          "model_name": "HBoxModel",
          "state": {
            "_dom_classes": [],
            "_model_module": "@jupyter-widgets/controls",
            "_model_module_version": "1.5.0",
            "_model_name": "HBoxModel",
            "_view_count": null,
            "_view_module": "@jupyter-widgets/controls",
            "_view_module_version": "1.5.0",
            "_view_name": "HBoxView",
            "box_style": "",
            "children": [
              "IPY_MODEL_5c65c5e4fa8e4ff1915471c24c8f0b83",
              "IPY_MODEL_3e430b78d4cd44c0b8895af1eca94343",
              "IPY_MODEL_95923b2a5ad1427895fe655865619c4a"
            ],
            "layout": "IPY_MODEL_1613d594c85c496a960675024f936299"
          }
        },
        "59b0831a966d4609a5fa138695644ed3": {
          "model_module": "@jupyter-widgets/controls",
          "model_module_version": "1.5.0",
          "model_name": "HTMLModel",
          "state": {
            "_dom_classes": [],
            "_model_module": "@jupyter-widgets/controls",
            "_model_module_version": "1.5.0",
            "_model_name": "HTMLModel",
            "_view_count": null,
            "_view_module": "@jupyter-widgets/controls",
            "_view_module_version": "1.5.0",
            "_view_name": "HTMLView",
            "description": "",
            "description_tooltip": null,
            "layout": "IPY_MODEL_c1a03201fce2483daee289e0e5fbcdc9",
            "placeholder": "​",
            "style": "IPY_MODEL_5c07774573f74ae5837b7d71101de936",
            "value": " 501M/501M [00:11&lt;00:00, 15.8MB/s]"
          }
        },
        "5c07774573f74ae5837b7d71101de936": {
          "model_module": "@jupyter-widgets/controls",
          "model_module_version": "1.5.0",
          "model_name": "DescriptionStyleModel",
          "state": {
            "_model_module": "@jupyter-widgets/controls",
            "_model_module_version": "1.5.0",
            "_model_name": "DescriptionStyleModel",
            "_view_count": null,
            "_view_module": "@jupyter-widgets/base",
            "_view_module_version": "1.2.0",
            "_view_name": "StyleView",
            "description_width": ""
          }
        },
        "5c65c5e4fa8e4ff1915471c24c8f0b83": {
          "model_module": "@jupyter-widgets/controls",
          "model_module_version": "1.5.0",
          "model_name": "HTMLModel",
          "state": {
            "_dom_classes": [],
            "_model_module": "@jupyter-widgets/controls",
            "_model_module_version": "1.5.0",
            "_model_name": "HTMLModel",
            "_view_count": null,
            "_view_module": "@jupyter-widgets/controls",
            "_view_module_version": "1.5.0",
            "_view_name": "HTMLView",
            "description": "",
            "description_tooltip": null,
            "layout": "IPY_MODEL_8c3fa2f565a74c56a5e77aa70c8832e5",
            "placeholder": "​",
            "style": "IPY_MODEL_f9d94e035d10405489b65afb7d9a2a55",
            "value": "pytorch_model.bin: 100%"
          }
        },
        "5e879b8f40914124bc09e12cfda1d95e": {
          "model_module": "@jupyter-widgets/base",
          "model_module_version": "1.2.0",
          "model_name": "LayoutModel",
          "state": {
            "_model_module": "@jupyter-widgets/base",
            "_model_module_version": "1.2.0",
            "_model_name": "LayoutModel",
            "_view_count": null,
            "_view_module": "@jupyter-widgets/base",
            "_view_module_version": "1.2.0",
            "_view_name": "LayoutView",
            "align_content": null,
            "align_items": null,
            "align_self": null,
            "border": null,
            "bottom": null,
            "display": null,
            "flex": null,
            "flex_flow": null,
            "grid_area": null,
            "grid_auto_columns": null,
            "grid_auto_flow": null,
            "grid_auto_rows": null,
            "grid_column": null,
            "grid_gap": null,
            "grid_row": null,
            "grid_template_areas": null,
            "grid_template_columns": null,
            "grid_template_rows": null,
            "height": null,
            "justify_content": null,
            "justify_items": null,
            "left": null,
            "margin": null,
            "max_height": null,
            "max_width": null,
            "min_height": null,
            "min_width": null,
            "object_fit": null,
            "object_position": null,
            "order": null,
            "overflow": null,
            "overflow_x": null,
            "overflow_y": null,
            "padding": null,
            "right": null,
            "top": null,
            "visibility": null,
            "width": null
          }
        },
        "5fa8fdb4264c457f86ef531465aa440f": {
          "model_module": "@jupyter-widgets/controls",
          "model_module_version": "1.5.0",
          "model_name": "FloatProgressModel",
          "state": {
            "_dom_classes": [],
            "_model_module": "@jupyter-widgets/controls",
            "_model_module_version": "1.5.0",
            "_model_name": "FloatProgressModel",
            "_view_count": null,
            "_view_module": "@jupyter-widgets/controls",
            "_view_module_version": "1.5.0",
            "_view_name": "ProgressView",
            "bar_style": "success",
            "description": "",
            "description_tooltip": null,
            "layout": "IPY_MODEL_6251b4b8b89d4450b23499876f1eed61",
            "max": 929,
            "min": 0,
            "orientation": "horizontal",
            "style": "IPY_MODEL_6b1a58192d7142b78079e3cabe4bfa68",
            "value": 929
          }
        },
        "610ac6d4137d4f369b801b539b0a469a": {
          "model_module": "@jupyter-widgets/controls",
          "model_module_version": "1.5.0",
          "model_name": "HTMLModel",
          "state": {
            "_dom_classes": [],
            "_model_module": "@jupyter-widgets/controls",
            "_model_module_version": "1.5.0",
            "_model_name": "HTMLModel",
            "_view_count": null,
            "_view_module": "@jupyter-widgets/controls",
            "_view_module_version": "1.5.0",
            "_view_name": "HTMLView",
            "description": "",
            "description_tooltip": null,
            "layout": "IPY_MODEL_0b34cc74dd974c11b05bc11b259e31e3",
            "placeholder": "​",
            "style": "IPY_MODEL_a9d2f44566834043915bff12eb743cc2",
            "value": "vocab.json: 100%"
          }
        },
        "6251b4b8b89d4450b23499876f1eed61": {
          "model_module": "@jupyter-widgets/base",
          "model_module_version": "1.2.0",
          "model_name": "LayoutModel",
          "state": {
            "_model_module": "@jupyter-widgets/base",
            "_model_module_version": "1.2.0",
            "_model_name": "LayoutModel",
            "_view_count": null,
            "_view_module": "@jupyter-widgets/base",
            "_view_module_version": "1.2.0",
            "_view_name": "LayoutView",
            "align_content": null,
            "align_items": null,
            "align_self": null,
            "border": null,
            "bottom": null,
            "display": null,
            "flex": null,
            "flex_flow": null,
            "grid_area": null,
            "grid_auto_columns": null,
            "grid_auto_flow": null,
            "grid_auto_rows": null,
            "grid_column": null,
            "grid_gap": null,
            "grid_row": null,
            "grid_template_areas": null,
            "grid_template_columns": null,
            "grid_template_rows": null,
            "height": null,
            "justify_content": null,
            "justify_items": null,
            "left": null,
            "margin": null,
            "max_height": null,
            "max_width": null,
            "min_height": null,
            "min_width": null,
            "object_fit": null,
            "object_position": null,
            "order": null,
            "overflow": null,
            "overflow_x": null,
            "overflow_y": null,
            "padding": null,
            "right": null,
            "top": null,
            "visibility": null,
            "width": null
          }
        },
        "6b1a58192d7142b78079e3cabe4bfa68": {
          "model_module": "@jupyter-widgets/controls",
          "model_module_version": "1.5.0",
          "model_name": "ProgressStyleModel",
          "state": {
            "_model_module": "@jupyter-widgets/controls",
            "_model_module_version": "1.5.0",
            "_model_name": "ProgressStyleModel",
            "_view_count": null,
            "_view_module": "@jupyter-widgets/base",
            "_view_module_version": "1.2.0",
            "_view_name": "StyleView",
            "bar_color": null,
            "description_width": ""
          }
        },
        "73b09a0ebb43441db1a7a4c40ebee342": {
          "model_module": "@jupyter-widgets/base",
          "model_module_version": "1.2.0",
          "model_name": "LayoutModel",
          "state": {
            "_model_module": "@jupyter-widgets/base",
            "_model_module_version": "1.2.0",
            "_model_name": "LayoutModel",
            "_view_count": null,
            "_view_module": "@jupyter-widgets/base",
            "_view_module_version": "1.2.0",
            "_view_name": "LayoutView",
            "align_content": null,
            "align_items": null,
            "align_self": null,
            "border": null,
            "bottom": null,
            "display": null,
            "flex": null,
            "flex_flow": null,
            "grid_area": null,
            "grid_auto_columns": null,
            "grid_auto_flow": null,
            "grid_auto_rows": null,
            "grid_column": null,
            "grid_gap": null,
            "grid_row": null,
            "grid_template_areas": null,
            "grid_template_columns": null,
            "grid_template_rows": null,
            "height": null,
            "justify_content": null,
            "justify_items": null,
            "left": null,
            "margin": null,
            "max_height": null,
            "max_width": null,
            "min_height": null,
            "min_width": null,
            "object_fit": null,
            "object_position": null,
            "order": null,
            "overflow": null,
            "overflow_x": null,
            "overflow_y": null,
            "padding": null,
            "right": null,
            "top": null,
            "visibility": null,
            "width": null
          }
        },
        "77d6e38edef64f47a1ec9816df4db343": {
          "model_module": "@jupyter-widgets/controls",
          "model_module_version": "1.5.0",
          "model_name": "DescriptionStyleModel",
          "state": {
            "_model_module": "@jupyter-widgets/controls",
            "_model_module_version": "1.5.0",
            "_model_name": "DescriptionStyleModel",
            "_view_count": null,
            "_view_module": "@jupyter-widgets/base",
            "_view_module_version": "1.2.0",
            "_view_name": "StyleView",
            "description_width": ""
          }
        },
        "8c3fa2f565a74c56a5e77aa70c8832e5": {
          "model_module": "@jupyter-widgets/base",
          "model_module_version": "1.2.0",
          "model_name": "LayoutModel",
          "state": {
            "_model_module": "@jupyter-widgets/base",
            "_model_module_version": "1.2.0",
            "_model_name": "LayoutModel",
            "_view_count": null,
            "_view_module": "@jupyter-widgets/base",
            "_view_module_version": "1.2.0",
            "_view_name": "LayoutView",
            "align_content": null,
            "align_items": null,
            "align_self": null,
            "border": null,
            "bottom": null,
            "display": null,
            "flex": null,
            "flex_flow": null,
            "grid_area": null,
            "grid_auto_columns": null,
            "grid_auto_flow": null,
            "grid_auto_rows": null,
            "grid_column": null,
            "grid_gap": null,
            "grid_row": null,
            "grid_template_areas": null,
            "grid_template_columns": null,
            "grid_template_rows": null,
            "height": null,
            "justify_content": null,
            "justify_items": null,
            "left": null,
            "margin": null,
            "max_height": null,
            "max_width": null,
            "min_height": null,
            "min_width": null,
            "object_fit": null,
            "object_position": null,
            "order": null,
            "overflow": null,
            "overflow_x": null,
            "overflow_y": null,
            "padding": null,
            "right": null,
            "top": null,
            "visibility": null,
            "width": null
          }
        },
        "91da7eddceca4b3a9af4615455699f5d": {
          "model_module": "@jupyter-widgets/controls",
          "model_module_version": "1.5.0",
          "model_name": "HBoxModel",
          "state": {
            "_dom_classes": [],
            "_model_module": "@jupyter-widgets/controls",
            "_model_module_version": "1.5.0",
            "_model_name": "HBoxModel",
            "_view_count": null,
            "_view_module": "@jupyter-widgets/controls",
            "_view_module_version": "1.5.0",
            "_view_name": "HBoxView",
            "box_style": "",
            "children": [
              "IPY_MODEL_95dea3be159a4217a133a34111afa75d",
              "IPY_MODEL_b1714468cd8742ba8fb26eecc825bf06",
              "IPY_MODEL_abbb8c20522d475c9463c37e6c439be9"
            ],
            "layout": "IPY_MODEL_e3f3f2b4f7974f4a882c5289b019d604"
          }
        },
        "93b9f6a12e8646b8addf253f34898e85": {
          "model_module": "@jupyter-widgets/controls",
          "model_module_version": "1.5.0",
          "model_name": "DescriptionStyleModel",
          "state": {
            "_model_module": "@jupyter-widgets/controls",
            "_model_module_version": "1.5.0",
            "_model_name": "DescriptionStyleModel",
            "_view_count": null,
            "_view_module": "@jupyter-widgets/base",
            "_view_module_version": "1.2.0",
            "_view_name": "StyleView",
            "description_width": ""
          }
        },
        "95923b2a5ad1427895fe655865619c4a": {
          "model_module": "@jupyter-widgets/controls",
          "model_module_version": "1.5.0",
          "model_name": "HTMLModel",
          "state": {
            "_dom_classes": [],
            "_model_module": "@jupyter-widgets/controls",
            "_model_module_version": "1.5.0",
            "_model_name": "HTMLModel",
            "_view_count": null,
            "_view_module": "@jupyter-widgets/controls",
            "_view_module_version": "1.5.0",
            "_view_name": "HTMLView",
            "description": "",
            "description_tooltip": null,
            "layout": "IPY_MODEL_af99a5f15c874bc39fdaac67f405dadc",
            "placeholder": "​",
            "style": "IPY_MODEL_9af2014069ee4b5c86b43504f9b51add",
            "value": " 501M/501M [00:07&lt;00:00, 66.0MB/s]"
          }
        },
        "95dea3be159a4217a133a34111afa75d": {
          "model_module": "@jupyter-widgets/controls",
          "model_module_version": "1.5.0",
          "model_name": "HTMLModel",
          "state": {
            "_dom_classes": [],
            "_model_module": "@jupyter-widgets/controls",
            "_model_module_version": "1.5.0",
            "_model_name": "HTMLModel",
            "_view_count": null,
            "_view_module": "@jupyter-widgets/controls",
            "_view_module_version": "1.5.0",
            "_view_name": "HTMLView",
            "description": "",
            "description_tooltip": null,
            "layout": "IPY_MODEL_c8a8129c9b644ed3967a26c5c0b4a9e6",
            "placeholder": "​",
            "style": "IPY_MODEL_c2d12a6eeb184e759ab48bebc6eba7b4",
            "value": "merges.txt: 100%"
          }
        },
        "9a7bb28b5ffd43c4b4fa9aa5c0e5e90a": {
          "model_module": "@jupyter-widgets/controls",
          "model_module_version": "1.5.0",
          "model_name": "DescriptionStyleModel",
          "state": {
            "_model_module": "@jupyter-widgets/controls",
            "_model_module_version": "1.5.0",
            "_model_name": "DescriptionStyleModel",
            "_view_count": null,
            "_view_module": "@jupyter-widgets/base",
            "_view_module_version": "1.2.0",
            "_view_name": "StyleView",
            "description_width": ""
          }
        },
        "9af2014069ee4b5c86b43504f9b51add": {
          "model_module": "@jupyter-widgets/controls",
          "model_module_version": "1.5.0",
          "model_name": "DescriptionStyleModel",
          "state": {
            "_model_module": "@jupyter-widgets/controls",
            "_model_module_version": "1.5.0",
            "_model_name": "DescriptionStyleModel",
            "_view_count": null,
            "_view_module": "@jupyter-widgets/base",
            "_view_module_version": "1.2.0",
            "_view_name": "StyleView",
            "description_width": ""
          }
        },
        "a3b4e23232274ba9b57e313dab8bf9f6": {
          "model_module": "@jupyter-widgets/base",
          "model_module_version": "1.2.0",
          "model_name": "LayoutModel",
          "state": {
            "_model_module": "@jupyter-widgets/base",
            "_model_module_version": "1.2.0",
            "_model_name": "LayoutModel",
            "_view_count": null,
            "_view_module": "@jupyter-widgets/base",
            "_view_module_version": "1.2.0",
            "_view_name": "LayoutView",
            "align_content": null,
            "align_items": null,
            "align_self": null,
            "border": null,
            "bottom": null,
            "display": null,
            "flex": null,
            "flex_flow": null,
            "grid_area": null,
            "grid_auto_columns": null,
            "grid_auto_flow": null,
            "grid_auto_rows": null,
            "grid_column": null,
            "grid_gap": null,
            "grid_row": null,
            "grid_template_areas": null,
            "grid_template_columns": null,
            "grid_template_rows": null,
            "height": null,
            "justify_content": null,
            "justify_items": null,
            "left": null,
            "margin": null,
            "max_height": null,
            "max_width": null,
            "min_height": null,
            "min_width": null,
            "object_fit": null,
            "object_position": null,
            "order": null,
            "overflow": null,
            "overflow_x": null,
            "overflow_y": null,
            "padding": null,
            "right": null,
            "top": null,
            "visibility": null,
            "width": null
          }
        },
        "a539088c371f4e50ba22af9a99084af1": {
          "model_module": "@jupyter-widgets/base",
          "model_module_version": "1.2.0",
          "model_name": "LayoutModel",
          "state": {
            "_model_module": "@jupyter-widgets/base",
            "_model_module_version": "1.2.0",
            "_model_name": "LayoutModel",
            "_view_count": null,
            "_view_module": "@jupyter-widgets/base",
            "_view_module_version": "1.2.0",
            "_view_name": "LayoutView",
            "align_content": null,
            "align_items": null,
            "align_self": null,
            "border": null,
            "bottom": null,
            "display": null,
            "flex": null,
            "flex_flow": null,
            "grid_area": null,
            "grid_auto_columns": null,
            "grid_auto_flow": null,
            "grid_auto_rows": null,
            "grid_column": null,
            "grid_gap": null,
            "grid_row": null,
            "grid_template_areas": null,
            "grid_template_columns": null,
            "grid_template_rows": null,
            "height": null,
            "justify_content": null,
            "justify_items": null,
            "left": null,
            "margin": null,
            "max_height": null,
            "max_width": null,
            "min_height": null,
            "min_width": null,
            "object_fit": null,
            "object_position": null,
            "order": null,
            "overflow": null,
            "overflow_x": null,
            "overflow_y": null,
            "padding": null,
            "right": null,
            "top": null,
            "visibility": null,
            "width": null
          }
        },
        "a7bbf9f6d745458993cd514c22612ff4": {
          "model_module": "@jupyter-widgets/controls",
          "model_module_version": "1.5.0",
          "model_name": "DescriptionStyleModel",
          "state": {
            "_model_module": "@jupyter-widgets/controls",
            "_model_module_version": "1.5.0",
            "_model_name": "DescriptionStyleModel",
            "_view_count": null,
            "_view_module": "@jupyter-widgets/base",
            "_view_module_version": "1.2.0",
            "_view_name": "StyleView",
            "description_width": ""
          }
        },
        "a9d2f44566834043915bff12eb743cc2": {
          "model_module": "@jupyter-widgets/controls",
          "model_module_version": "1.5.0",
          "model_name": "DescriptionStyleModel",
          "state": {
            "_model_module": "@jupyter-widgets/controls",
            "_model_module_version": "1.5.0",
            "_model_name": "DescriptionStyleModel",
            "_view_count": null,
            "_view_module": "@jupyter-widgets/base",
            "_view_module_version": "1.2.0",
            "_view_name": "StyleView",
            "description_width": ""
          }
        },
        "aa04810c24cc45a6807d805ce77c3bae": {
          "model_module": "@jupyter-widgets/controls",
          "model_module_version": "1.5.0",
          "model_name": "ProgressStyleModel",
          "state": {
            "_model_module": "@jupyter-widgets/controls",
            "_model_module_version": "1.5.0",
            "_model_name": "ProgressStyleModel",
            "_view_count": null,
            "_view_module": "@jupyter-widgets/base",
            "_view_module_version": "1.2.0",
            "_view_name": "StyleView",
            "bar_color": null,
            "description_width": ""
          }
        },
        "aa38a33efa1c49808e763ba9b5ef7a1f": {
          "model_module": "@jupyter-widgets/base",
          "model_module_version": "1.2.0",
          "model_name": "LayoutModel",
          "state": {
            "_model_module": "@jupyter-widgets/base",
            "_model_module_version": "1.2.0",
            "_model_name": "LayoutModel",
            "_view_count": null,
            "_view_module": "@jupyter-widgets/base",
            "_view_module_version": "1.2.0",
            "_view_name": "LayoutView",
            "align_content": null,
            "align_items": null,
            "align_self": null,
            "border": null,
            "bottom": null,
            "display": null,
            "flex": null,
            "flex_flow": null,
            "grid_area": null,
            "grid_auto_columns": null,
            "grid_auto_flow": null,
            "grid_auto_rows": null,
            "grid_column": null,
            "grid_gap": null,
            "grid_row": null,
            "grid_template_areas": null,
            "grid_template_columns": null,
            "grid_template_rows": null,
            "height": null,
            "justify_content": null,
            "justify_items": null,
            "left": null,
            "margin": null,
            "max_height": null,
            "max_width": null,
            "min_height": null,
            "min_width": null,
            "object_fit": null,
            "object_position": null,
            "order": null,
            "overflow": null,
            "overflow_x": null,
            "overflow_y": null,
            "padding": null,
            "right": null,
            "top": null,
            "visibility": null,
            "width": null
          }
        },
        "abbb8c20522d475c9463c37e6c439be9": {
          "model_module": "@jupyter-widgets/controls",
          "model_module_version": "1.5.0",
          "model_name": "HTMLModel",
          "state": {
            "_dom_classes": [],
            "_model_module": "@jupyter-widgets/controls",
            "_model_module_version": "1.5.0",
            "_model_name": "HTMLModel",
            "_view_count": null,
            "_view_module": "@jupyter-widgets/controls",
            "_view_module_version": "1.5.0",
            "_view_name": "HTMLView",
            "description": "",
            "description_tooltip": null,
            "layout": "IPY_MODEL_29725a56030d4596aec1450dad16a13c",
            "placeholder": "​",
            "style": "IPY_MODEL_93b9f6a12e8646b8addf253f34898e85",
            "value": " 456k/456k [00:00&lt;00:00, 6.44MB/s]"
          }
        },
        "af99a5f15c874bc39fdaac67f405dadc": {
          "model_module": "@jupyter-widgets/base",
          "model_module_version": "1.2.0",
          "model_name": "LayoutModel",
          "state": {
            "_model_module": "@jupyter-widgets/base",
            "_model_module_version": "1.2.0",
            "_model_name": "LayoutModel",
            "_view_count": null,
            "_view_module": "@jupyter-widgets/base",
            "_view_module_version": "1.2.0",
            "_view_name": "LayoutView",
            "align_content": null,
            "align_items": null,
            "align_self": null,
            "border": null,
            "bottom": null,
            "display": null,
            "flex": null,
            "flex_flow": null,
            "grid_area": null,
            "grid_auto_columns": null,
            "grid_auto_flow": null,
            "grid_auto_rows": null,
            "grid_column": null,
            "grid_gap": null,
            "grid_row": null,
            "grid_template_areas": null,
            "grid_template_columns": null,
            "grid_template_rows": null,
            "height": null,
            "justify_content": null,
            "justify_items": null,
            "left": null,
            "margin": null,
            "max_height": null,
            "max_width": null,
            "min_height": null,
            "min_width": null,
            "object_fit": null,
            "object_position": null,
            "order": null,
            "overflow": null,
            "overflow_x": null,
            "overflow_y": null,
            "padding": null,
            "right": null,
            "top": null,
            "visibility": null,
            "width": null
          }
        },
        "b0cdd778cdbf4ae5af5cff57b2053304": {
          "model_module": "@jupyter-widgets/controls",
          "model_module_version": "1.5.0",
          "model_name": "HTMLModel",
          "state": {
            "_dom_classes": [],
            "_model_module": "@jupyter-widgets/controls",
            "_model_module_version": "1.5.0",
            "_model_name": "HTMLModel",
            "_view_count": null,
            "_view_module": "@jupyter-widgets/controls",
            "_view_module_version": "1.5.0",
            "_view_name": "HTMLView",
            "description": "",
            "description_tooltip": null,
            "layout": "IPY_MODEL_73b09a0ebb43441db1a7a4c40ebee342",
            "placeholder": "​",
            "style": "IPY_MODEL_fc544f0a376948d28cd62a4ab3be3c8c",
            "value": "config.json: 100%"
          }
        },
        "b1714468cd8742ba8fb26eecc825bf06": {
          "model_module": "@jupyter-widgets/controls",
          "model_module_version": "1.5.0",
          "model_name": "FloatProgressModel",
          "state": {
            "_dom_classes": [],
            "_model_module": "@jupyter-widgets/controls",
            "_model_module_version": "1.5.0",
            "_model_name": "FloatProgressModel",
            "_view_count": null,
            "_view_module": "@jupyter-widgets/controls",
            "_view_module_version": "1.5.0",
            "_view_name": "ProgressView",
            "bar_style": "success",
            "description": "",
            "description_tooltip": null,
            "layout": "IPY_MODEL_1e1aacc0503c4316809d2c9ca0f0e87b",
            "max": 456318,
            "min": 0,
            "orientation": "horizontal",
            "style": "IPY_MODEL_aa04810c24cc45a6807d805ce77c3bae",
            "value": 456318
          }
        },
        "b3953eb065984befacfeff94c08856cf": {
          "model_module": "@jupyter-widgets/controls",
          "model_module_version": "1.5.0",
          "model_name": "ProgressStyleModel",
          "state": {
            "_model_module": "@jupyter-widgets/controls",
            "_model_module_version": "1.5.0",
            "_model_name": "ProgressStyleModel",
            "_view_count": null,
            "_view_module": "@jupyter-widgets/base",
            "_view_module_version": "1.2.0",
            "_view_name": "StyleView",
            "bar_color": null,
            "description_width": ""
          }
        },
        "bb9ffff6d1aa4afc994e0b2b0edb19b2": {
          "model_module": "@jupyter-widgets/base",
          "model_module_version": "1.2.0",
          "model_name": "LayoutModel",
          "state": {
            "_model_module": "@jupyter-widgets/base",
            "_model_module_version": "1.2.0",
            "_model_name": "LayoutModel",
            "_view_count": null,
            "_view_module": "@jupyter-widgets/base",
            "_view_module_version": "1.2.0",
            "_view_name": "LayoutView",
            "align_content": null,
            "align_items": null,
            "align_self": null,
            "border": null,
            "bottom": null,
            "display": null,
            "flex": null,
            "flex_flow": null,
            "grid_area": null,
            "grid_auto_columns": null,
            "grid_auto_flow": null,
            "grid_auto_rows": null,
            "grid_column": null,
            "grid_gap": null,
            "grid_row": null,
            "grid_template_areas": null,
            "grid_template_columns": null,
            "grid_template_rows": null,
            "height": null,
            "justify_content": null,
            "justify_items": null,
            "left": null,
            "margin": null,
            "max_height": null,
            "max_width": null,
            "min_height": null,
            "min_width": null,
            "object_fit": null,
            "object_position": null,
            "order": null,
            "overflow": null,
            "overflow_x": null,
            "overflow_y": null,
            "padding": null,
            "right": null,
            "top": null,
            "visibility": null,
            "width": null
          }
        },
        "c1a03201fce2483daee289e0e5fbcdc9": {
          "model_module": "@jupyter-widgets/base",
          "model_module_version": "1.2.0",
          "model_name": "LayoutModel",
          "state": {
            "_model_module": "@jupyter-widgets/base",
            "_model_module_version": "1.2.0",
            "_model_name": "LayoutModel",
            "_view_count": null,
            "_view_module": "@jupyter-widgets/base",
            "_view_module_version": "1.2.0",
            "_view_name": "LayoutView",
            "align_content": null,
            "align_items": null,
            "align_self": null,
            "border": null,
            "bottom": null,
            "display": null,
            "flex": null,
            "flex_flow": null,
            "grid_area": null,
            "grid_auto_columns": null,
            "grid_auto_flow": null,
            "grid_auto_rows": null,
            "grid_column": null,
            "grid_gap": null,
            "grid_row": null,
            "grid_template_areas": null,
            "grid_template_columns": null,
            "grid_template_rows": null,
            "height": null,
            "justify_content": null,
            "justify_items": null,
            "left": null,
            "margin": null,
            "max_height": null,
            "max_width": null,
            "min_height": null,
            "min_width": null,
            "object_fit": null,
            "object_position": null,
            "order": null,
            "overflow": null,
            "overflow_x": null,
            "overflow_y": null,
            "padding": null,
            "right": null,
            "top": null,
            "visibility": null,
            "width": null
          }
        },
        "c2d12a6eeb184e759ab48bebc6eba7b4": {
          "model_module": "@jupyter-widgets/controls",
          "model_module_version": "1.5.0",
          "model_name": "DescriptionStyleModel",
          "state": {
            "_model_module": "@jupyter-widgets/controls",
            "_model_module_version": "1.5.0",
            "_model_name": "DescriptionStyleModel",
            "_view_count": null,
            "_view_module": "@jupyter-widgets/base",
            "_view_module_version": "1.2.0",
            "_view_name": "StyleView",
            "description_width": ""
          }
        },
        "c89b8a44170b413bb3052cb5337b2258": {
          "model_module": "@jupyter-widgets/controls",
          "model_module_version": "1.5.0",
          "model_name": "HTMLModel",
          "state": {
            "_dom_classes": [],
            "_model_module": "@jupyter-widgets/controls",
            "_model_module_version": "1.5.0",
            "_model_name": "HTMLModel",
            "_view_count": null,
            "_view_module": "@jupyter-widgets/controls",
            "_view_module_version": "1.5.0",
            "_view_name": "HTMLView",
            "description": "",
            "description_tooltip": null,
            "layout": "IPY_MODEL_0e4019e60c8348708efbce9748c96635",
            "placeholder": "​",
            "style": "IPY_MODEL_9a7bb28b5ffd43c4b4fa9aa5c0e5e90a",
            "value": "model.safetensors: 100%"
          }
        },
        "c8a8129c9b644ed3967a26c5c0b4a9e6": {
          "model_module": "@jupyter-widgets/base",
          "model_module_version": "1.2.0",
          "model_name": "LayoutModel",
          "state": {
            "_model_module": "@jupyter-widgets/base",
            "_model_module_version": "1.2.0",
            "_model_name": "LayoutModel",
            "_view_count": null,
            "_view_module": "@jupyter-widgets/base",
            "_view_module_version": "1.2.0",
            "_view_name": "LayoutView",
            "align_content": null,
            "align_items": null,
            "align_self": null,
            "border": null,
            "bottom": null,
            "display": null,
            "flex": null,
            "flex_flow": null,
            "grid_area": null,
            "grid_auto_columns": null,
            "grid_auto_flow": null,
            "grid_auto_rows": null,
            "grid_column": null,
            "grid_gap": null,
            "grid_row": null,
            "grid_template_areas": null,
            "grid_template_columns": null,
            "grid_template_rows": null,
            "height": null,
            "justify_content": null,
            "justify_items": null,
            "left": null,
            "margin": null,
            "max_height": null,
            "max_width": null,
            "min_height": null,
            "min_width": null,
            "object_fit": null,
            "object_position": null,
            "order": null,
            "overflow": null,
            "overflow_x": null,
            "overflow_y": null,
            "padding": null,
            "right": null,
            "top": null,
            "visibility": null,
            "width": null
          }
        },
        "c9e835eb27094590bf7f894c367460d8": {
          "model_module": "@jupyter-widgets/controls",
          "model_module_version": "1.5.0",
          "model_name": "HBoxModel",
          "state": {
            "_dom_classes": [],
            "_model_module": "@jupyter-widgets/controls",
            "_model_module_version": "1.5.0",
            "_model_name": "HBoxModel",
            "_view_count": null,
            "_view_module": "@jupyter-widgets/controls",
            "_view_module_version": "1.5.0",
            "_view_name": "HBoxView",
            "box_style": "",
            "children": [
              "IPY_MODEL_c89b8a44170b413bb3052cb5337b2258",
              "IPY_MODEL_1901cad71f9042109adc8589bc942876",
              "IPY_MODEL_59b0831a966d4609a5fa138695644ed3"
            ],
            "layout": "IPY_MODEL_aa38a33efa1c49808e763ba9b5ef7a1f"
          }
        },
        "d915796a7ef2401b963e0c3c2d672e33": {
          "model_module": "@jupyter-widgets/base",
          "model_module_version": "1.2.0",
          "model_name": "LayoutModel",
          "state": {
            "_model_module": "@jupyter-widgets/base",
            "_model_module_version": "1.2.0",
            "_model_name": "LayoutModel",
            "_view_count": null,
            "_view_module": "@jupyter-widgets/base",
            "_view_module_version": "1.2.0",
            "_view_name": "LayoutView",
            "align_content": null,
            "align_items": null,
            "align_self": null,
            "border": null,
            "bottom": null,
            "display": null,
            "flex": null,
            "flex_flow": null,
            "grid_area": null,
            "grid_auto_columns": null,
            "grid_auto_flow": null,
            "grid_auto_rows": null,
            "grid_column": null,
            "grid_gap": null,
            "grid_row": null,
            "grid_template_areas": null,
            "grid_template_columns": null,
            "grid_template_rows": null,
            "height": null,
            "justify_content": null,
            "justify_items": null,
            "left": null,
            "margin": null,
            "max_height": null,
            "max_width": null,
            "min_height": null,
            "min_width": null,
            "object_fit": null,
            "object_position": null,
            "order": null,
            "overflow": null,
            "overflow_x": null,
            "overflow_y": null,
            "padding": null,
            "right": null,
            "top": null,
            "visibility": null,
            "width": null
          }
        },
        "e3f3f2b4f7974f4a882c5289b019d604": {
          "model_module": "@jupyter-widgets/base",
          "model_module_version": "1.2.0",
          "model_name": "LayoutModel",
          "state": {
            "_model_module": "@jupyter-widgets/base",
            "_model_module_version": "1.2.0",
            "_model_name": "LayoutModel",
            "_view_count": null,
            "_view_module": "@jupyter-widgets/base",
            "_view_module_version": "1.2.0",
            "_view_name": "LayoutView",
            "align_content": null,
            "align_items": null,
            "align_self": null,
            "border": null,
            "bottom": null,
            "display": null,
            "flex": null,
            "flex_flow": null,
            "grid_area": null,
            "grid_auto_columns": null,
            "grid_auto_flow": null,
            "grid_auto_rows": null,
            "grid_column": null,
            "grid_gap": null,
            "grid_row": null,
            "grid_template_areas": null,
            "grid_template_columns": null,
            "grid_template_rows": null,
            "height": null,
            "justify_content": null,
            "justify_items": null,
            "left": null,
            "margin": null,
            "max_height": null,
            "max_width": null,
            "min_height": null,
            "min_width": null,
            "object_fit": null,
            "object_position": null,
            "order": null,
            "overflow": null,
            "overflow_x": null,
            "overflow_y": null,
            "padding": null,
            "right": null,
            "top": null,
            "visibility": null,
            "width": null
          }
        },
        "e4c1091e9c2843228cfdf654789be7a5": {
          "model_module": "@jupyter-widgets/controls",
          "model_module_version": "1.5.0",
          "model_name": "HBoxModel",
          "state": {
            "_dom_classes": [],
            "_model_module": "@jupyter-widgets/controls",
            "_model_module_version": "1.5.0",
            "_model_name": "HBoxModel",
            "_view_count": null,
            "_view_module": "@jupyter-widgets/controls",
            "_view_module_version": "1.5.0",
            "_view_name": "HBoxView",
            "box_style": "",
            "children": [
              "IPY_MODEL_f9e0c5215840450684fde8de62d8a75e",
              "IPY_MODEL_525e99c70b614aa5b007bfdd0316568e",
              "IPY_MODEL_0c9ae5733ebc468ab2a6bc0139d04b98"
            ],
            "layout": "IPY_MODEL_2a98431fb06c453794009d7c3b0f4d42"
          }
        },
        "f8a5b4d8a50b4bcd9cbae583319677b7": {
          "model_module": "@jupyter-widgets/controls",
          "model_module_version": "1.5.0",
          "model_name": "HTMLModel",
          "state": {
            "_dom_classes": [],
            "_model_module": "@jupyter-widgets/controls",
            "_model_module_version": "1.5.0",
            "_model_name": "HTMLModel",
            "_view_count": null,
            "_view_module": "@jupyter-widgets/controls",
            "_view_module_version": "1.5.0",
            "_view_name": "HTMLView",
            "description": "",
            "description_tooltip": null,
            "layout": "IPY_MODEL_0d86b8b1024a474c8ae61ec78b0c0f8b",
            "placeholder": "​",
            "style": "IPY_MODEL_a7bbf9f6d745458993cd514c22612ff4",
            "value": " 899k/899k [00:00&lt;00:00, 4.14MB/s]"
          }
        },
        "f9d94e035d10405489b65afb7d9a2a55": {
          "model_module": "@jupyter-widgets/controls",
          "model_module_version": "1.5.0",
          "model_name": "DescriptionStyleModel",
          "state": {
            "_model_module": "@jupyter-widgets/controls",
            "_model_module_version": "1.5.0",
            "_model_name": "DescriptionStyleModel",
            "_view_count": null,
            "_view_module": "@jupyter-widgets/base",
            "_view_module_version": "1.2.0",
            "_view_name": "StyleView",
            "description_width": ""
          }
        },
        "f9e0c5215840450684fde8de62d8a75e": {
          "model_module": "@jupyter-widgets/controls",
          "model_module_version": "1.5.0",
          "model_name": "HTMLModel",
          "state": {
            "_dom_classes": [],
            "_model_module": "@jupyter-widgets/controls",
            "_model_module_version": "1.5.0",
            "_model_name": "HTMLModel",
            "_view_count": null,
            "_view_module": "@jupyter-widgets/controls",
            "_view_module_version": "1.5.0",
            "_view_name": "HTMLView",
            "description": "",
            "description_tooltip": null,
            "layout": "IPY_MODEL_221a1046bca64a308d652175c35b4fd3",
            "placeholder": "​",
            "style": "IPY_MODEL_29f2955c41a14638a54b6e1def7bd36f",
            "value": "special_tokens_map.json: 100%"
          }
        },
        "fc544f0a376948d28cd62a4ab3be3c8c": {
          "model_module": "@jupyter-widgets/controls",
          "model_module_version": "1.5.0",
          "model_name": "DescriptionStyleModel",
          "state": {
            "_model_module": "@jupyter-widgets/controls",
            "_model_module_version": "1.5.0",
            "_model_name": "DescriptionStyleModel",
            "_view_count": null,
            "_view_module": "@jupyter-widgets/base",
            "_view_module_version": "1.2.0",
            "_view_name": "StyleView",
            "description_width": ""
          }
        },
        "fe6594176ca54de0873cc2e676d2eca1": {
          "model_module": "@jupyter-widgets/base",
          "model_module_version": "1.2.0",
          "model_name": "LayoutModel",
          "state": {
            "_model_module": "@jupyter-widgets/base",
            "_model_module_version": "1.2.0",
            "_model_name": "LayoutModel",
            "_view_count": null,
            "_view_module": "@jupyter-widgets/base",
            "_view_module_version": "1.2.0",
            "_view_name": "LayoutView",
            "align_content": null,
            "align_items": null,
            "align_self": null,
            "border": null,
            "bottom": null,
            "display": null,
            "flex": null,
            "flex_flow": null,
            "grid_area": null,
            "grid_auto_columns": null,
            "grid_auto_flow": null,
            "grid_auto_rows": null,
            "grid_column": null,
            "grid_gap": null,
            "grid_row": null,
            "grid_template_areas": null,
            "grid_template_columns": null,
            "grid_template_rows": null,
            "height": null,
            "justify_content": null,
            "justify_items": null,
            "left": null,
            "margin": null,
            "max_height": null,
            "max_width": null,
            "min_height": null,
            "min_width": null,
            "object_fit": null,
            "object_position": null,
            "order": null,
            "overflow": null,
            "overflow_x": null,
            "overflow_y": null,
            "padding": null,
            "right": null,
            "top": null,
            "visibility": null,
            "width": null
          }
        }
      }
    }
  },
  "nbformat": 4,
  "nbformat_minor": 0
}
